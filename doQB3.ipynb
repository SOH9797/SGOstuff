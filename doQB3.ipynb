{
 "cells": [
  {
   "cell_type": "markdown",
   "metadata": {},
   "source": [
    "## Run QIIME2 with BBSRC Data: Batch/Plate 3"
   ]
  },
  {
   "cell_type": "markdown",
   "metadata": {},
   "source": [
    "Ref: https://gist.github.com/tkosciol/29de5198a4be81559a075756c2490fde"
   ]
  },
  {
   "cell_type": "markdown",
   "metadata": {},
   "source": [
    "Using Jupyter Lab Notebook and QIIME2 Python API."
   ]
  },
  {
   "cell_type": "code",
   "execution_count": 96,
   "metadata": {},
   "outputs": [],
   "source": [
    "import pandas as pd"
   ]
  },
  {
   "cell_type": "markdown",
   "metadata": {},
   "source": [
    "More imports than we really need..."
   ]
  },
  {
   "cell_type": "code",
   "execution_count": 97,
   "metadata": {},
   "outputs": [],
   "source": [
    "import qiime2\n",
    "from tempfile import mkdtemp\n",
    "from qiime2.plugins import demux, deblur, quality_filter, \\\n",
    "                           metadata, feature_table, alignment, \\\n",
    "                           phylogeny, diversity, emperor, feature_classifier, \\\n",
    "                           taxa, composition"
   ]
  },
  {
   "cell_type": "code",
   "execution_count": 98,
   "metadata": {},
   "outputs": [],
   "source": [
    "from qiime2.plugins.dada2.methods import denoise_paired"
   ]
  },
  {
   "cell_type": "code",
   "execution_count": 99,
   "metadata": {},
   "outputs": [],
   "source": [
    "from matplotlib import pyplot as plt"
   ]
  },
  {
   "cell_type": "code",
   "execution_count": 100,
   "metadata": {},
   "outputs": [],
   "source": [
    "%matplotlib inline"
   ]
  },
  {
   "cell_type": "code",
   "execution_count": 101,
   "metadata": {},
   "outputs": [],
   "source": [
    "import os, tarfile, wget"
   ]
  },
  {
   "cell_type": "markdown",
   "metadata": {},
   "source": [
    "Set default figure size for matplotlib"
   ]
  },
  {
   "cell_type": "code",
   "execution_count": 102,
   "metadata": {},
   "outputs": [],
   "source": [
    "plt.rcParams['figure.figsize'] = [9.5, 6]"
   ]
  },
  {
   "cell_type": "markdown",
   "metadata": {},
   "source": [
    "## Get data\n",
    "\n",
    "Use *trimmed* data\n",
    "\n",
    "Local copy of data files are in folder '/mnt/j/4BBSRC/data_plate3/Trimmed/'\n",
    "\n",
    "Had to rename files and remove duplicate (low read count) samples."
   ]
  },
  {
   "cell_type": "code",
   "execution_count": 103,
   "metadata": {},
   "outputs": [],
   "source": [
    "pth = '/mnt/j/4BBSRC/data_plate3/Trimmed/'\n",
    "\n",
    "#must match '.+_.+_L[0-9][0-9][0-9]_R[12]_001\\\\.fastq\\\\.gz'"
   ]
  },
  {
   "cell_type": "code",
   "execution_count": 105,
   "metadata": {},
   "outputs": [
    {
     "name": "stdout",
     "output_type": "stream",
     "text": [
      "1-455-061F_220506_L001_R1_001.fastq.gz\n",
      "1-455-061F_220506_L001_R2_001.fastq.gz\n",
      "10-455-064F_220506_L001_R1_001.fastq.gz\n",
      "10-455-064F_220506_L001_R2_001.fastq.gz\n",
      "11-455-064A_220506_L001_R1_001.fastq.gz\n",
      "11-455-064A_220506_L001_R2_001.fastq.gz\n",
      "12-455-064B_220506_L001_R1_001.fastq.gz\n",
      "12-455-064B_220506_L001_R2_001.fastq.gz\n",
      "13-455-065F_220506_L001_R1_001.fastq.gz\n",
      "13-455-065F_220506_L001_R2_001.fastq.gz\n"
     ]
    }
   ],
   "source": [
    "!ls /mnt/j/4BBSRC/data_plate3/Trimmed/ | head"
   ]
  },
  {
   "cell_type": "code",
   "execution_count": 17,
   "metadata": {},
   "outputs": [],
   "source": [
    "#CasavaOneEightSingleLanePerSampleDirFmt fails??\n",
    "mydata = qiime2.Artifact.import_data('SampleData[PairedEndSequencesWithQuality]',pth, view_type='CasavaOneEightSingleLanePerSampleDirFmt')\n",
    "mydata.save('QB3Data')\n",
    "fn = 'QB3Data.qza'"
   ]
  },
  {
   "cell_type": "markdown",
   "metadata": {},
   "source": [
    "## Get Metadata"
   ]
  },
  {
   "cell_type": "markdown",
   "metadata": {},
   "source": [
    "Study metadata"
   ]
  },
  {
   "cell_type": "code",
   "execution_count": 93,
   "metadata": {},
   "outputs": [],
   "source": [
    "#!mamba install openpyxl -c conda-forge -y"
   ]
  },
  {
   "cell_type": "code",
   "execution_count": 140,
   "metadata": {},
   "outputs": [],
   "source": [
    "#mdf=pd.read_excel('clinical_data_Dec22.xlsx')\n",
    "#mdf.set_index('ID',inplace=True)\n",
    "#mdf"
   ]
  },
  {
   "cell_type": "markdown",
   "metadata": {},
   "source": [
    "Build full metadata from file list"
   ]
  },
  {
   "cell_type": "code",
   "execution_count": 156,
   "metadata": {},
   "outputs": [
    {
     "data": {
      "text/html": [
       "<div>\n",
       "<style scoped>\n",
       "    .dataframe tbody tr th:only-of-type {\n",
       "        vertical-align: middle;\n",
       "    }\n",
       "\n",
       "    .dataframe tbody tr th {\n",
       "        vertical-align: top;\n",
       "    }\n",
       "\n",
       "    .dataframe thead th {\n",
       "        text-align: right;\n",
       "    }\n",
       "</style>\n",
       "<table border=\"1\" class=\"dataframe\">\n",
       "  <thead>\n",
       "    <tr style=\"text-align: right;\">\n",
       "      <th></th>\n",
       "      <th>idx</th>\n",
       "      <th>site</th>\n",
       "      <th>subject</th>\n",
       "    </tr>\n",
       "    <tr>\n",
       "      <th>id</th>\n",
       "      <th></th>\n",
       "      <th></th>\n",
       "      <th></th>\n",
       "    </tr>\n",
       "  </thead>\n",
       "  <tbody>\n",
       "    <tr>\n",
       "      <th>1-455-061F</th>\n",
       "      <td>1</td>\n",
       "      <td>F</td>\n",
       "      <td>455_061F</td>\n",
       "    </tr>\n",
       "    <tr>\n",
       "      <th>10-455-064F</th>\n",
       "      <td>10</td>\n",
       "      <td>F</td>\n",
       "      <td>455_064F</td>\n",
       "    </tr>\n",
       "    <tr>\n",
       "      <th>11-455-064A</th>\n",
       "      <td>11</td>\n",
       "      <td>A</td>\n",
       "      <td>455_064A</td>\n",
       "    </tr>\n",
       "    <tr>\n",
       "      <th>12-455-064B</th>\n",
       "      <td>12</td>\n",
       "      <td>B</td>\n",
       "      <td>455_064B</td>\n",
       "    </tr>\n",
       "    <tr>\n",
       "      <th>13-455-065F</th>\n",
       "      <td>13</td>\n",
       "      <td>F</td>\n",
       "      <td>455_065F</td>\n",
       "    </tr>\n",
       "    <tr>\n",
       "      <th>...</th>\n",
       "      <td>...</td>\n",
       "      <td>...</td>\n",
       "      <td>...</td>\n",
       "    </tr>\n",
       "    <tr>\n",
       "      <th>92-PCRPos</th>\n",
       "      <td>92</td>\n",
       "      <td>NaN</td>\n",
       "      <td>PCRPos</td>\n",
       "    </tr>\n",
       "    <tr>\n",
       "      <th>93-455-049B</th>\n",
       "      <td>93</td>\n",
       "      <td>B</td>\n",
       "      <td>455_049B</td>\n",
       "    </tr>\n",
       "    <tr>\n",
       "      <th>94-455-013A</th>\n",
       "      <td>94</td>\n",
       "      <td>A</td>\n",
       "      <td>455_013A</td>\n",
       "    </tr>\n",
       "    <tr>\n",
       "      <th>95-455-046B</th>\n",
       "      <td>95</td>\n",
       "      <td>B</td>\n",
       "      <td>455_046B</td>\n",
       "    </tr>\n",
       "    <tr>\n",
       "      <th>96-455-018A</th>\n",
       "      <td>96</td>\n",
       "      <td>A</td>\n",
       "      <td>455_018A</td>\n",
       "    </tr>\n",
       "  </tbody>\n",
       "</table>\n",
       "<p>96 rows × 3 columns</p>\n",
       "</div>"
      ],
      "text/plain": [
       "            idx site   subject\n",
       "id                            \n",
       "1-455-061F    1    F  455_061F\n",
       "10-455-064F  10    F  455_064F\n",
       "11-455-064A  11    A  455_064A\n",
       "12-455-064B  12    B  455_064B\n",
       "13-455-065F  13    F  455_065F\n",
       "...          ..  ...       ...\n",
       "92-PCRPos    92  NaN    PCRPos\n",
       "93-455-049B  93    B  455_049B\n",
       "94-455-013A  94    A  455_013A\n",
       "95-455-046B  95    B  455_046B\n",
       "96-455-018A  96    A  455_018A\n",
       "\n",
       "[96 rows x 3 columns]"
      ]
     },
     "execution_count": 156,
     "metadata": {},
     "output_type": "execute_result"
    }
   ],
   "source": [
    "mdf = pd.DataFrame(os.listdir(pth),columns=['pth'])\n",
    "\n",
    "mdf['key']=mdf['pth'].str.extract('^([0-9]{1,2}-.*)_[0-9]{6}.*')\n",
    "mdf['idx']=mdf['key'].str.extract('(^[0-9]{1,2}).*')\n",
    "#mdf['subject']=mdf['pth'].str.extract('^[0-9]{1,2}-(.*)_[0-9]{6}.*')\n",
    "mdf['site']=mdf['key'].str.extract('^[0-9]{1,2}-[0-9]{3}-[0-9]{3}([A-Z])$')\n",
    "mdf['subject']=mdf['key'].str.extract('^[0-9]{1,2}-(.*)[A-Z]{0,1}$')\n",
    "mdf['subject']=mdf['subject'].str.replace('-','_')\n",
    "mdf.set_index('key',drop=True,inplace=True)\n",
    "mdf.drop('pth',axis=1,inplace=True)\n",
    "mdf.drop_duplicates(inplace=True)\n",
    "mdf.index.name='id'\n",
    "mdf"
   ]
  },
  {
   "cell_type": "code",
   "execution_count": 157,
   "metadata": {},
   "outputs": [
    {
     "data": {
      "text/html": [
       "<div>\n",
       "<style scoped>\n",
       "    .dataframe tbody tr th:only-of-type {\n",
       "        vertical-align: middle;\n",
       "    }\n",
       "\n",
       "    .dataframe tbody tr th {\n",
       "        vertical-align: top;\n",
       "    }\n",
       "\n",
       "    .dataframe thead th {\n",
       "        text-align: right;\n",
       "    }\n",
       "</style>\n",
       "<table border=\"1\" class=\"dataframe\">\n",
       "  <thead>\n",
       "    <tr style=\"text-align: right;\">\n",
       "      <th></th>\n",
       "      <th>idx</th>\n",
       "      <th>site</th>\n",
       "      <th>subject</th>\n",
       "    </tr>\n",
       "    <tr>\n",
       "      <th>id</th>\n",
       "      <th></th>\n",
       "      <th></th>\n",
       "      <th></th>\n",
       "    </tr>\n",
       "  </thead>\n",
       "  <tbody>\n",
       "    <tr>\n",
       "      <th>91-PCRNeg</th>\n",
       "      <td>91</td>\n",
       "      <td>NaN</td>\n",
       "      <td>PCRNeg</td>\n",
       "    </tr>\n",
       "    <tr>\n",
       "      <th>92-PCRPos</th>\n",
       "      <td>92</td>\n",
       "      <td>NaN</td>\n",
       "      <td>PCRPos</td>\n",
       "    </tr>\n",
       "  </tbody>\n",
       "</table>\n",
       "</div>"
      ],
      "text/plain": [
       "          idx site subject\n",
       "id                        \n",
       "91-PCRNeg  91  NaN  PCRNeg\n",
       "92-PCRPos  92  NaN  PCRPos"
      ]
     },
     "execution_count": 157,
     "metadata": {},
     "output_type": "execute_result"
    }
   ],
   "source": [
    "mdf[mdf.index.str.contains('PCR')]"
   ]
  },
  {
   "cell_type": "code",
   "execution_count": 159,
   "metadata": {},
   "outputs": [],
   "source": [
    "metad = qiime2.Metadata(mdf)"
   ]
  },
  {
   "cell_type": "code",
   "execution_count": 160,
   "metadata": {},
   "outputs": [
    {
     "name": "stderr",
     "output_type": "stream",
     "text": [
      "/home/mcdssso/miniconda3/envs/qiime2-2022.11/lib/python3.8/site-packages/q2_demux/_summarize/_visualizer.py:191: FutureWarning: The frame.append method is deprecated and will be removed from pandas in a future version. Use pandas.concat instead.\n",
      "  context['result_data'] = context['result_data'].append(df)\n",
      "/home/mcdssso/miniconda3/envs/qiime2-2022.11/lib/python3.8/site-packages/q2_demux/_summarize/_visualizer.py:191: FutureWarning: The frame.append method is deprecated and will be removed from pandas in a future version. Use pandas.concat instead.\n",
      "  context['result_data'] = context['result_data'].append(df)\n"
     ]
    },
    {
     "data": {
      "text/plain": [
       "<Figure size 950x600 with 0 Axes>"
      ]
     },
     "metadata": {},
     "output_type": "display_data"
    }
   ],
   "source": [
    "smdat = demux.visualizers.summarize(mydata)\n",
    "#smdat.visualization.save('qb3datv')\n",
    "smdatv = smdat.visualization"
   ]
  },
  {
   "cell_type": "code",
   "execution_count": 161,
   "metadata": {},
   "outputs": [
    {
     "data": {
      "text/html": [
       "<div><img onload=\"(function(div, url){\n",
       "if (typeof require !== 'undefined') {\n",
       "    var baseURL = require.toUrl('').split('/').slice(0, -2).join('/');\n",
       "} else {\n",
       "    var baseURL = JSON.parse(\n",
       "        document.getElementById('jupyter-config-data').innerHTML\n",
       "    ).baseUrl.slice(0, -1);\n",
       "}\n",
       "url = baseURL + url;\n",
       "fetch(url).then(function(res) {\n",
       "    if (res.status === 404) {\n",
       "        div.innerHTML = 'Install QIIME 2 Jupyter extension with:<br />' +\n",
       "                        '<code>jupyter serverextension enable --py qiime2' +\n",
       "                        ' --sys-prefix</code><br />then restart your server.' +\n",
       "                        '<br /><br />(Interactive output not available on ' +\n",
       "                        'static notebook viewer services like nbviewer.)';\n",
       "    } else if (res.status === 409) {\n",
       "        div.innerHTML = 'Visualization no longer in scope. Re-run this cell' +\n",
       "                        ' to see the visualization.';\n",
       "    } else if (res.ok) {\n",
       "        url = res.url;\n",
       "        div.innerHTML = '<iframe src=\\'' + url + '\\' style=\\'' +\n",
       "                        'width: 100%; height: 700px; border: 0;\\'>' +\n",
       "                        '</iframe><hr />Open in a: <a href=\\'' + url + '\\'' +\n",
       "                        ' target=\\'_blank\\'>new window</a>'\n",
       "    } else {\n",
       "        div.innerHTML = 'Something has gone wrong. Check notebook server for' +\n",
       "                        ' errors.';\n",
       "    }\n",
       "});\n",
       "})(this.parentElement, '/qiime2/redirect?location=/tmp/qiime2/mcdssso/data/5995e0b1-18e5-4f18-9e8a-cdda0878d45e')\" src=\"data:image/gif;base64,R0lGODlhAQABAIAAAP///wAAACH5BAEAAAAALAAAAAABAAEAAAICRAEAOw==\" /></div>"
      ],
      "text/plain": [
       "<visualization: Visualization uuid: 5995e0b1-18e5-4f18-9e8a-cdda0878d45e>"
      ]
     },
     "execution_count": 161,
     "metadata": {},
     "output_type": "execute_result"
    }
   ],
   "source": [
    "smdatv"
   ]
  },
  {
   "cell_type": "code",
   "execution_count": 162,
   "metadata": {},
   "outputs": [],
   "source": [
    "# !jupyter serverextension enable --py qiime2 --sys-prefix\n",
    "# then restart server..."
   ]
  },
  {
   "cell_type": "markdown",
   "metadata": {},
   "source": [
    "Are the parameters correct here?"
   ]
  },
  {
   "cell_type": "code",
   "execution_count": null,
   "metadata": {},
   "outputs": [
    {
     "name": "stdout",
     "output_type": "stream",
     "text": [
      "Running external command line application(s). This may print messages to stdout and/or stderr.\n",
      "The command(s) being run are below. These commands cannot be manually re-run as they will depend on temporary files that no longer exist.\n",
      "\n",
      "Command: run_dada.R --input_directory /tmp/tmpss4_igfu/forward --input_directory_reverse /tmp/tmpss4_igfu/reverse --output_path /tmp/tmpss4_igfu/output.tsv.biom --output_track /tmp/tmpss4_igfu/track.tsv --filtered_directory /tmp/tmpss4_igfu/filt_f --filtered_directory_reverse /tmp/tmpss4_igfu/filt_r --truncation_length 220 --truncation_length_reverse 220 --trim_left 20 --trim_left_reverse 20 --max_expected_errors 2.0 --max_expected_errors_reverse 2.0 --truncation_quality_score 2 --min_overlap 12 --pooling_method independent --chimera_method consensus --min_parental_fold 1.0 --allow_one_off False --num_threads 1 --learn_min_reads 1000000\n",
      "\n",
      "R version 4.2.2 (2022-10-31) \n"
     ]
    },
    {
     "name": "stderr",
     "output_type": "stream",
     "text": [
      "Loading required package: Rcpp\n"
     ]
    },
    {
     "name": "stdout",
     "output_type": "stream",
     "text": [
      "DADA2: 1.26.0 / Rcpp: 1.0.9 / RcppParallel: 5.1.6 \n",
      "2) Filtering "
     ]
    }
   ],
   "source": [
    "qc = denoise_paired(mydata,220,220,20,20)\n",
    "qc_table = qc.table\n",
    "qc_denoising_stats = qc.denoising_stats\n",
    "qc_representative_sequences = qc.representative_sequences\n",
    "qc_table.save('qb3qc_table')\n",
    "#qc_denoising_stats.save('qb3qc_denoising_stats')\n",
    "#qc_representative_sequences.save('qb3qc_representative_sequences')\n",
    "del qc"
   ]
  },
  {
   "cell_type": "code",
   "execution_count": 71,
   "metadata": {},
   "outputs": [],
   "source": [
    "df = qc_table.view(pd.DataFrame)"
   ]
  },
  {
   "cell_type": "code",
   "execution_count": 72,
   "metadata": {},
   "outputs": [
    {
     "data": {
      "text/html": [
       "<div>\n",
       "<style scoped>\n",
       "    .dataframe tbody tr th:only-of-type {\n",
       "        vertical-align: middle;\n",
       "    }\n",
       "\n",
       "    .dataframe tbody tr th {\n",
       "        vertical-align: top;\n",
       "    }\n",
       "\n",
       "    .dataframe thead th {\n",
       "        text-align: right;\n",
       "    }\n",
       "</style>\n",
       "<table border=\"1\" class=\"dataframe\">\n",
       "  <thead>\n",
       "    <tr style=\"text-align: right;\">\n",
       "      <th></th>\n",
       "      <th>472099d0ca288082f6e509d8486840ac</th>\n",
       "      <th>c4ffc9cda21e2d895072c17a5589f0f4</th>\n",
       "      <th>f0309e23b34e31994c8ecdeff35fcf8c</th>\n",
       "      <th>116050b6ca29bbed7ae0197e5e2b4ad0</th>\n",
       "      <th>fd3f596d5b8d142ac7bd6dcb1cfb1c0a</th>\n",
       "      <th>8c77ffb75eef05f9fe0cbab537a35f5b</th>\n",
       "      <th>fa74111ef8ea771c10dd7d9e398a7742</th>\n",
       "      <th>8243edde812e09c18ed7932c4cdcac93</th>\n",
       "      <th>bd38d16291f2c9dc6ea0c020eaa3fb8d</th>\n",
       "      <th>a73fdbab84d9cd75ade0dd68daab46f0</th>\n",
       "      <th>...</th>\n",
       "      <th>b719b620ecb371a53520fb8b3af3209a</th>\n",
       "      <th>ea8132b3cc398e37e2fd4ad644d86cd3</th>\n",
       "      <th>5f5701cf26c6ff1414dbdd9dbb17714b</th>\n",
       "      <th>4e667751f9d21df50dbd08416028fba7</th>\n",
       "      <th>fbc4416feb3ef62740e5ae48c1b4cd97</th>\n",
       "      <th>0e7cabf55e09d9eba0ca3a1c825f027a</th>\n",
       "      <th>bedfb96fe23c239f5f896db4371f32dc</th>\n",
       "      <th>a496419c42782b99bd91a66832d15467</th>\n",
       "      <th>10c99dc71685cde894b9b9b8b2fe8cb8</th>\n",
       "      <th>6ef915bf6507e7caba8bf8b8bcd2a880</th>\n",
       "    </tr>\n",
       "  </thead>\n",
       "  <tbody>\n",
       "    <tr>\n",
       "      <th>1-455-061F</th>\n",
       "      <td>23828.0</td>\n",
       "      <td>0.0</td>\n",
       "      <td>7.0</td>\n",
       "      <td>175.0</td>\n",
       "      <td>0.0</td>\n",
       "      <td>789.0</td>\n",
       "      <td>0.0</td>\n",
       "      <td>0.0</td>\n",
       "      <td>0.0</td>\n",
       "      <td>138.0</td>\n",
       "      <td>...</td>\n",
       "      <td>0.0</td>\n",
       "      <td>0.0</td>\n",
       "      <td>0.0</td>\n",
       "      <td>0.0</td>\n",
       "      <td>0.0</td>\n",
       "      <td>0.0</td>\n",
       "      <td>0.0</td>\n",
       "      <td>0.0</td>\n",
       "      <td>0.0</td>\n",
       "      <td>0.0</td>\n",
       "    </tr>\n",
       "    <tr>\n",
       "      <th>10-455-064F</th>\n",
       "      <td>33030.0</td>\n",
       "      <td>0.0</td>\n",
       "      <td>291.0</td>\n",
       "      <td>741.0</td>\n",
       "      <td>0.0</td>\n",
       "      <td>742.0</td>\n",
       "      <td>0.0</td>\n",
       "      <td>122.0</td>\n",
       "      <td>0.0</td>\n",
       "      <td>1053.0</td>\n",
       "      <td>...</td>\n",
       "      <td>0.0</td>\n",
       "      <td>0.0</td>\n",
       "      <td>0.0</td>\n",
       "      <td>0.0</td>\n",
       "      <td>0.0</td>\n",
       "      <td>0.0</td>\n",
       "      <td>0.0</td>\n",
       "      <td>0.0</td>\n",
       "      <td>0.0</td>\n",
       "      <td>0.0</td>\n",
       "    </tr>\n",
       "    <tr>\n",
       "      <th>11-455-064A</th>\n",
       "      <td>5867.0</td>\n",
       "      <td>0.0</td>\n",
       "      <td>427.0</td>\n",
       "      <td>1350.0</td>\n",
       "      <td>0.0</td>\n",
       "      <td>742.0</td>\n",
       "      <td>0.0</td>\n",
       "      <td>244.0</td>\n",
       "      <td>0.0</td>\n",
       "      <td>258.0</td>\n",
       "      <td>...</td>\n",
       "      <td>0.0</td>\n",
       "      <td>0.0</td>\n",
       "      <td>0.0</td>\n",
       "      <td>0.0</td>\n",
       "      <td>0.0</td>\n",
       "      <td>0.0</td>\n",
       "      <td>0.0</td>\n",
       "      <td>0.0</td>\n",
       "      <td>0.0</td>\n",
       "      <td>0.0</td>\n",
       "    </tr>\n",
       "    <tr>\n",
       "      <th>12-455-064B</th>\n",
       "      <td>13697.0</td>\n",
       "      <td>0.0</td>\n",
       "      <td>1486.0</td>\n",
       "      <td>2707.0</td>\n",
       "      <td>0.0</td>\n",
       "      <td>639.0</td>\n",
       "      <td>15.0</td>\n",
       "      <td>530.0</td>\n",
       "      <td>0.0</td>\n",
       "      <td>1177.0</td>\n",
       "      <td>...</td>\n",
       "      <td>0.0</td>\n",
       "      <td>0.0</td>\n",
       "      <td>0.0</td>\n",
       "      <td>0.0</td>\n",
       "      <td>0.0</td>\n",
       "      <td>0.0</td>\n",
       "      <td>0.0</td>\n",
       "      <td>0.0</td>\n",
       "      <td>0.0</td>\n",
       "      <td>0.0</td>\n",
       "    </tr>\n",
       "    <tr>\n",
       "      <th>13-455-065F</th>\n",
       "      <td>24400.0</td>\n",
       "      <td>0.0</td>\n",
       "      <td>67.0</td>\n",
       "      <td>703.0</td>\n",
       "      <td>0.0</td>\n",
       "      <td>463.0</td>\n",
       "      <td>0.0</td>\n",
       "      <td>0.0</td>\n",
       "      <td>0.0</td>\n",
       "      <td>884.0</td>\n",
       "      <td>...</td>\n",
       "      <td>0.0</td>\n",
       "      <td>0.0</td>\n",
       "      <td>0.0</td>\n",
       "      <td>0.0</td>\n",
       "      <td>0.0</td>\n",
       "      <td>0.0</td>\n",
       "      <td>0.0</td>\n",
       "      <td>0.0</td>\n",
       "      <td>0.0</td>\n",
       "      <td>0.0</td>\n",
       "    </tr>\n",
       "  </tbody>\n",
       "</table>\n",
       "<p>5 rows × 15796 columns</p>\n",
       "</div>"
      ],
      "text/plain": [
       "             472099d0ca288082f6e509d8486840ac  \\\n",
       "1-455-061F                            23828.0   \n",
       "10-455-064F                           33030.0   \n",
       "11-455-064A                            5867.0   \n",
       "12-455-064B                           13697.0   \n",
       "13-455-065F                           24400.0   \n",
       "\n",
       "             c4ffc9cda21e2d895072c17a5589f0f4  \\\n",
       "1-455-061F                                0.0   \n",
       "10-455-064F                               0.0   \n",
       "11-455-064A                               0.0   \n",
       "12-455-064B                               0.0   \n",
       "13-455-065F                               0.0   \n",
       "\n",
       "             f0309e23b34e31994c8ecdeff35fcf8c  \\\n",
       "1-455-061F                                7.0   \n",
       "10-455-064F                             291.0   \n",
       "11-455-064A                             427.0   \n",
       "12-455-064B                            1486.0   \n",
       "13-455-065F                              67.0   \n",
       "\n",
       "             116050b6ca29bbed7ae0197e5e2b4ad0  \\\n",
       "1-455-061F                              175.0   \n",
       "10-455-064F                             741.0   \n",
       "11-455-064A                            1350.0   \n",
       "12-455-064B                            2707.0   \n",
       "13-455-065F                             703.0   \n",
       "\n",
       "             fd3f596d5b8d142ac7bd6dcb1cfb1c0a  \\\n",
       "1-455-061F                                0.0   \n",
       "10-455-064F                               0.0   \n",
       "11-455-064A                               0.0   \n",
       "12-455-064B                               0.0   \n",
       "13-455-065F                               0.0   \n",
       "\n",
       "             8c77ffb75eef05f9fe0cbab537a35f5b  \\\n",
       "1-455-061F                              789.0   \n",
       "10-455-064F                             742.0   \n",
       "11-455-064A                             742.0   \n",
       "12-455-064B                             639.0   \n",
       "13-455-065F                             463.0   \n",
       "\n",
       "             fa74111ef8ea771c10dd7d9e398a7742  \\\n",
       "1-455-061F                                0.0   \n",
       "10-455-064F                               0.0   \n",
       "11-455-064A                               0.0   \n",
       "12-455-064B                              15.0   \n",
       "13-455-065F                               0.0   \n",
       "\n",
       "             8243edde812e09c18ed7932c4cdcac93  \\\n",
       "1-455-061F                                0.0   \n",
       "10-455-064F                             122.0   \n",
       "11-455-064A                             244.0   \n",
       "12-455-064B                             530.0   \n",
       "13-455-065F                               0.0   \n",
       "\n",
       "             bd38d16291f2c9dc6ea0c020eaa3fb8d  \\\n",
       "1-455-061F                                0.0   \n",
       "10-455-064F                               0.0   \n",
       "11-455-064A                               0.0   \n",
       "12-455-064B                               0.0   \n",
       "13-455-065F                               0.0   \n",
       "\n",
       "             a73fdbab84d9cd75ade0dd68daab46f0  ...  \\\n",
       "1-455-061F                              138.0  ...   \n",
       "10-455-064F                            1053.0  ...   \n",
       "11-455-064A                             258.0  ...   \n",
       "12-455-064B                            1177.0  ...   \n",
       "13-455-065F                             884.0  ...   \n",
       "\n",
       "             b719b620ecb371a53520fb8b3af3209a  \\\n",
       "1-455-061F                                0.0   \n",
       "10-455-064F                               0.0   \n",
       "11-455-064A                               0.0   \n",
       "12-455-064B                               0.0   \n",
       "13-455-065F                               0.0   \n",
       "\n",
       "             ea8132b3cc398e37e2fd4ad644d86cd3  \\\n",
       "1-455-061F                                0.0   \n",
       "10-455-064F                               0.0   \n",
       "11-455-064A                               0.0   \n",
       "12-455-064B                               0.0   \n",
       "13-455-065F                               0.0   \n",
       "\n",
       "             5f5701cf26c6ff1414dbdd9dbb17714b  \\\n",
       "1-455-061F                                0.0   \n",
       "10-455-064F                               0.0   \n",
       "11-455-064A                               0.0   \n",
       "12-455-064B                               0.0   \n",
       "13-455-065F                               0.0   \n",
       "\n",
       "             4e667751f9d21df50dbd08416028fba7  \\\n",
       "1-455-061F                                0.0   \n",
       "10-455-064F                               0.0   \n",
       "11-455-064A                               0.0   \n",
       "12-455-064B                               0.0   \n",
       "13-455-065F                               0.0   \n",
       "\n",
       "             fbc4416feb3ef62740e5ae48c1b4cd97  \\\n",
       "1-455-061F                                0.0   \n",
       "10-455-064F                               0.0   \n",
       "11-455-064A                               0.0   \n",
       "12-455-064B                               0.0   \n",
       "13-455-065F                               0.0   \n",
       "\n",
       "             0e7cabf55e09d9eba0ca3a1c825f027a  \\\n",
       "1-455-061F                                0.0   \n",
       "10-455-064F                               0.0   \n",
       "11-455-064A                               0.0   \n",
       "12-455-064B                               0.0   \n",
       "13-455-065F                               0.0   \n",
       "\n",
       "             bedfb96fe23c239f5f896db4371f32dc  \\\n",
       "1-455-061F                                0.0   \n",
       "10-455-064F                               0.0   \n",
       "11-455-064A                               0.0   \n",
       "12-455-064B                               0.0   \n",
       "13-455-065F                               0.0   \n",
       "\n",
       "             a496419c42782b99bd91a66832d15467  \\\n",
       "1-455-061F                                0.0   \n",
       "10-455-064F                               0.0   \n",
       "11-455-064A                               0.0   \n",
       "12-455-064B                               0.0   \n",
       "13-455-065F                               0.0   \n",
       "\n",
       "             10c99dc71685cde894b9b9b8b2fe8cb8  \\\n",
       "1-455-061F                                0.0   \n",
       "10-455-064F                               0.0   \n",
       "11-455-064A                               0.0   \n",
       "12-455-064B                               0.0   \n",
       "13-455-065F                               0.0   \n",
       "\n",
       "             6ef915bf6507e7caba8bf8b8bcd2a880  \n",
       "1-455-061F                                0.0  \n",
       "10-455-064F                               0.0  \n",
       "11-455-064A                               0.0  \n",
       "12-455-064B                               0.0  \n",
       "13-455-065F                               0.0  \n",
       "\n",
       "[5 rows x 15796 columns]"
      ]
     },
     "execution_count": 72,
     "metadata": {},
     "output_type": "execute_result"
    }
   ],
   "source": [
    "df.head()"
   ]
  },
  {
   "cell_type": "code",
   "execution_count": 73,
   "metadata": {},
   "outputs": [],
   "source": [
    "statsmeta = metadata.visualizers.tabulate(input=qc_denoising_stats.view(qiime2.Metadata))"
   ]
  },
  {
   "cell_type": "code",
   "execution_count": 74,
   "metadata": {},
   "outputs": [
    {
     "data": {
      "text/html": [
       "<div><img onload=\"(function(div, url){\n",
       "if (typeof require !== 'undefined') {\n",
       "    var baseURL = require.toUrl('').split('/').slice(0, -2).join('/');\n",
       "} else {\n",
       "    var baseURL = JSON.parse(\n",
       "        document.getElementById('jupyter-config-data').innerHTML\n",
       "    ).baseUrl.slice(0, -1);\n",
       "}\n",
       "url = baseURL + url;\n",
       "fetch(url).then(function(res) {\n",
       "    if (res.status === 404) {\n",
       "        div.innerHTML = 'Install QIIME 2 Jupyter extension with:<br />' +\n",
       "                        '<code>jupyter serverextension enable --py qiime2' +\n",
       "                        ' --sys-prefix</code><br />then restart your server.' +\n",
       "                        '<br /><br />(Interactive output not available on ' +\n",
       "                        'static notebook viewer services like nbviewer.)';\n",
       "    } else if (res.status === 409) {\n",
       "        div.innerHTML = 'Visualization no longer in scope. Re-run this cell' +\n",
       "                        ' to see the visualization.';\n",
       "    } else if (res.ok) {\n",
       "        url = res.url;\n",
       "        div.innerHTML = '<iframe src=\\'' + url + '\\' style=\\'' +\n",
       "                        'width: 100%; height: 700px; border: 0;\\'>' +\n",
       "                        '</iframe><hr />Open in a: <a href=\\'' + url + '\\'' +\n",
       "                        ' target=\\'_blank\\'>new window</a>'\n",
       "    } else {\n",
       "        div.innerHTML = 'Something has gone wrong. Check notebook server for' +\n",
       "                        ' errors.';\n",
       "    }\n",
       "});\n",
       "})(this.parentElement, '/qiime2/redirect?location=/tmp/qiime2/mcdssso/data/57a76350-178c-4a70-8d19-197eaacb17b3')\" src=\"data:image/gif;base64,R0lGODlhAQABAIAAAP///wAAACH5BAEAAAAALAAAAAABAAEAAAICRAEAOw==\" /></div>"
      ],
      "text/plain": [
       "<visualization: Visualization uuid: 57a76350-178c-4a70-8d19-197eaacb17b3>"
      ]
     },
     "execution_count": 74,
     "metadata": {},
     "output_type": "execute_result"
    }
   ],
   "source": [
    "statsmeta.visualization"
   ]
  },
  {
   "cell_type": "code",
   "execution_count": 75,
   "metadata": {},
   "outputs": [],
   "source": [
    "qcv = metadata.visualizers.tabulate(qc_table.view(qiime2.Metadata))"
   ]
  },
  {
   "cell_type": "code",
   "execution_count": 76,
   "metadata": {},
   "outputs": [
    {
     "data": {
      "text/html": [
       "<div><img onload=\"(function(div, url){\n",
       "if (typeof require !== 'undefined') {\n",
       "    var baseURL = require.toUrl('').split('/').slice(0, -2).join('/');\n",
       "} else {\n",
       "    var baseURL = JSON.parse(\n",
       "        document.getElementById('jupyter-config-data').innerHTML\n",
       "    ).baseUrl.slice(0, -1);\n",
       "}\n",
       "url = baseURL + url;\n",
       "fetch(url).then(function(res) {\n",
       "    if (res.status === 404) {\n",
       "        div.innerHTML = 'Install QIIME 2 Jupyter extension with:<br />' +\n",
       "                        '<code>jupyter serverextension enable --py qiime2' +\n",
       "                        ' --sys-prefix</code><br />then restart your server.' +\n",
       "                        '<br /><br />(Interactive output not available on ' +\n",
       "                        'static notebook viewer services like nbviewer.)';\n",
       "    } else if (res.status === 409) {\n",
       "        div.innerHTML = 'Visualization no longer in scope. Re-run this cell' +\n",
       "                        ' to see the visualization.';\n",
       "    } else if (res.ok) {\n",
       "        url = res.url;\n",
       "        div.innerHTML = '<iframe src=\\'' + url + '\\' style=\\'' +\n",
       "                        'width: 100%; height: 700px; border: 0;\\'>' +\n",
       "                        '</iframe><hr />Open in a: <a href=\\'' + url + '\\'' +\n",
       "                        ' target=\\'_blank\\'>new window</a>'\n",
       "    } else {\n",
       "        div.innerHTML = 'Something has gone wrong. Check notebook server for' +\n",
       "                        ' errors.';\n",
       "    }\n",
       "});\n",
       "})(this.parentElement, '/qiime2/redirect?location=/tmp/qiime2/mcdssso/data/1963cb47-9304-4401-a9d3-ae959eecf564')\" src=\"data:image/gif;base64,R0lGODlhAQABAIAAAP///wAAACH5BAEAAAAALAAAAAABAAEAAAICRAEAOw==\" /></div>"
      ],
      "text/plain": [
       "<visualization: Visualization uuid: 1963cb47-9304-4401-a9d3-ae959eecf564>"
      ]
     },
     "execution_count": 76,
     "metadata": {},
     "output_type": "execute_result"
    }
   ],
   "source": [
    "qcv.visualization"
   ]
  },
  {
   "cell_type": "code",
   "execution_count": 77,
   "metadata": {},
   "outputs": [],
   "source": [
    "ftv = feature_table.visualizers.summarize(qc_table)"
   ]
  },
  {
   "cell_type": "code",
   "execution_count": 78,
   "metadata": {},
   "outputs": [
    {
     "data": {
      "text/html": [
       "<div><img onload=\"(function(div, url){\n",
       "if (typeof require !== 'undefined') {\n",
       "    var baseURL = require.toUrl('').split('/').slice(0, -2).join('/');\n",
       "} else {\n",
       "    var baseURL = JSON.parse(\n",
       "        document.getElementById('jupyter-config-data').innerHTML\n",
       "    ).baseUrl.slice(0, -1);\n",
       "}\n",
       "url = baseURL + url;\n",
       "fetch(url).then(function(res) {\n",
       "    if (res.status === 404) {\n",
       "        div.innerHTML = 'Install QIIME 2 Jupyter extension with:<br />' +\n",
       "                        '<code>jupyter serverextension enable --py qiime2' +\n",
       "                        ' --sys-prefix</code><br />then restart your server.' +\n",
       "                        '<br /><br />(Interactive output not available on ' +\n",
       "                        'static notebook viewer services like nbviewer.)';\n",
       "    } else if (res.status === 409) {\n",
       "        div.innerHTML = 'Visualization no longer in scope. Re-run this cell' +\n",
       "                        ' to see the visualization.';\n",
       "    } else if (res.ok) {\n",
       "        url = res.url;\n",
       "        div.innerHTML = '<iframe src=\\'' + url + '\\' style=\\'' +\n",
       "                        'width: 100%; height: 700px; border: 0;\\'>' +\n",
       "                        '</iframe><hr />Open in a: <a href=\\'' + url + '\\'' +\n",
       "                        ' target=\\'_blank\\'>new window</a>'\n",
       "    } else {\n",
       "        div.innerHTML = 'Something has gone wrong. Check notebook server for' +\n",
       "                        ' errors.';\n",
       "    }\n",
       "});\n",
       "})(this.parentElement, '/qiime2/redirect?location=/tmp/qiime2/mcdssso/data/6acc7bd4-e810-42f7-b4de-bcf4d43006fe')\" src=\"data:image/gif;base64,R0lGODlhAQABAIAAAP///wAAACH5BAEAAAAALAAAAAABAAEAAAICRAEAOw==\" /></div>"
      ],
      "text/plain": [
       "<visualization: Visualization uuid: 6acc7bd4-e810-42f7-b4de-bcf4d43006fe>"
      ]
     },
     "execution_count": 78,
     "metadata": {},
     "output_type": "execute_result"
    }
   ],
   "source": [
    "ftv.visualization"
   ]
  },
  {
   "cell_type": "markdown",
   "metadata": {},
   "source": [
    "### From Paul\n",
    "\n",
    "See: https://docs.qiime2.org/2022.2/tutorials/feature-classifier/"
   ]
  },
  {
   "cell_type": "code",
   "execution_count": 79,
   "metadata": {},
   "outputs": [
    {
     "data": {
      "text/plain": [
       "'0.24.1'"
      ]
     },
     "execution_count": 79,
     "metadata": {},
     "output_type": "execute_result"
    }
   ],
   "source": [
    "import sklearn\n",
    "sklearn.__version__"
   ]
  },
  {
   "cell_type": "code",
   "execution_count": 80,
   "metadata": {},
   "outputs": [],
   "source": [
    "repref = qiime2.Artifact.load('97_otus.qza')"
   ]
  },
  {
   "cell_type": "code",
   "execution_count": 81,
   "metadata": {},
   "outputs": [],
   "source": [
    "taxref = qiime2.Artifact.load('ref-taxonomy.qza')"
   ]
  },
  {
   "cell_type": "code",
   "execution_count": 82,
   "metadata": {},
   "outputs": [
    {
     "name": "stderr",
     "output_type": "stream",
     "text": [
      "/home/mcdssso/miniconda3/envs/qiime2-2022.11/lib/python3.8/site-packages/q2_feature_classifier/classifier.py:102: UserWarning: The TaxonomicClassifier artifact that results from this method was trained using scikit-learn version 0.24.1. It cannot be used with other versions of scikit-learn. (While the classifier may complete successfully, the results will be unreliable.)\n",
      "  warnings.warn(warning, UserWarning)\n"
     ]
    }
   ],
   "source": [
    "cnb = feature_classifier.methods.fit_classifier_naive_bayes(repref,taxref)\n",
    "#cnb.classifier.save('qb3class')\n",
    "cnbclass = cnb.classifier\n"
   ]
  },
  {
   "cell_type": "code",
   "execution_count": 83,
   "metadata": {},
   "outputs": [],
   "source": [
    "tax = feature_classifier.actions.classify_sklearn(qc_representative_sequences,cnbclass)\n",
    "tax.classification.save('qb3taxclass')\n",
    "taxclass = tax.classification\n",
    "del tax"
   ]
  },
  {
   "cell_type": "code",
   "execution_count": 84,
   "metadata": {},
   "outputs": [],
   "source": [
    "taxv = metadata.visualizers.tabulate(taxclass.view(qiime2.Metadata))"
   ]
  },
  {
   "cell_type": "code",
   "execution_count": 85,
   "metadata": {},
   "outputs": [
    {
     "data": {
      "text/html": [
       "<div><img onload=\"(function(div, url){\n",
       "if (typeof require !== 'undefined') {\n",
       "    var baseURL = require.toUrl('').split('/').slice(0, -2).join('/');\n",
       "} else {\n",
       "    var baseURL = JSON.parse(\n",
       "        document.getElementById('jupyter-config-data').innerHTML\n",
       "    ).baseUrl.slice(0, -1);\n",
       "}\n",
       "url = baseURL + url;\n",
       "fetch(url).then(function(res) {\n",
       "    if (res.status === 404) {\n",
       "        div.innerHTML = 'Install QIIME 2 Jupyter extension with:<br />' +\n",
       "                        '<code>jupyter serverextension enable --py qiime2' +\n",
       "                        ' --sys-prefix</code><br />then restart your server.' +\n",
       "                        '<br /><br />(Interactive output not available on ' +\n",
       "                        'static notebook viewer services like nbviewer.)';\n",
       "    } else if (res.status === 409) {\n",
       "        div.innerHTML = 'Visualization no longer in scope. Re-run this cell' +\n",
       "                        ' to see the visualization.';\n",
       "    } else if (res.ok) {\n",
       "        url = res.url;\n",
       "        div.innerHTML = '<iframe src=\\'' + url + '\\' style=\\'' +\n",
       "                        'width: 100%; height: 700px; border: 0;\\'>' +\n",
       "                        '</iframe><hr />Open in a: <a href=\\'' + url + '\\'' +\n",
       "                        ' target=\\'_blank\\'>new window</a>'\n",
       "    } else {\n",
       "        div.innerHTML = 'Something has gone wrong. Check notebook server for' +\n",
       "                        ' errors.';\n",
       "    }\n",
       "});\n",
       "})(this.parentElement, '/qiime2/redirect?location=/tmp/qiime2/mcdssso/data/e64c76fa-1296-4210-bf75-b12c1c2d6dd9')\" src=\"data:image/gif;base64,R0lGODlhAQABAIAAAP///wAAACH5BAEAAAAALAAAAAABAAEAAAICRAEAOw==\" /></div>"
      ],
      "text/plain": [
       "<visualization: Visualization uuid: e64c76fa-1296-4210-bf75-b12c1c2d6dd9>"
      ]
     },
     "execution_count": 85,
     "metadata": {},
     "output_type": "execute_result"
    }
   ],
   "source": [
    "taxv.visualization"
   ]
  },
  {
   "cell_type": "code",
   "execution_count": 86,
   "metadata": {},
   "outputs": [
    {
     "data": {
      "text/html": [
       "<div><img onload=\"(function(div, url){\n",
       "if (typeof require !== 'undefined') {\n",
       "    var baseURL = require.toUrl('').split('/').slice(0, -2).join('/');\n",
       "} else {\n",
       "    var baseURL = JSON.parse(\n",
       "        document.getElementById('jupyter-config-data').innerHTML\n",
       "    ).baseUrl.slice(0, -1);\n",
       "}\n",
       "url = baseURL + url;\n",
       "fetch(url).then(function(res) {\n",
       "    if (res.status === 404) {\n",
       "        div.innerHTML = 'Install QIIME 2 Jupyter extension with:<br />' +\n",
       "                        '<code>jupyter serverextension enable --py qiime2' +\n",
       "                        ' --sys-prefix</code><br />then restart your server.' +\n",
       "                        '<br /><br />(Interactive output not available on ' +\n",
       "                        'static notebook viewer services like nbviewer.)';\n",
       "    } else if (res.status === 409) {\n",
       "        div.innerHTML = 'Visualization no longer in scope. Re-run this cell' +\n",
       "                        ' to see the visualization.';\n",
       "    } else if (res.ok) {\n",
       "        url = res.url;\n",
       "        div.innerHTML = '<iframe src=\\'' + url + '\\' style=\\'' +\n",
       "                        'width: 100%; height: 700px; border: 0;\\'>' +\n",
       "                        '</iframe><hr />Open in a: <a href=\\'' + url + '\\'' +\n",
       "                        ' target=\\'_blank\\'>new window</a>'\n",
       "    } else {\n",
       "        div.innerHTML = 'Something has gone wrong. Check notebook server for' +\n",
       "                        ' errors.';\n",
       "    }\n",
       "});\n",
       "})(this.parentElement, '/qiime2/redirect?location=/tmp/qiime2/mcdssso/data/c8b645a6-b38b-4a9e-b89c-a5e00afd438f')\" src=\"data:image/gif;base64,R0lGODlhAQABAIAAAP///wAAACH5BAEAAAAALAAAAAABAAEAAAICRAEAOw==\" /></div>"
      ],
      "text/plain": [
       "<visualization: Visualization uuid: c8b645a6-b38b-4a9e-b89c-a5e00afd438f>"
      ]
     },
     "execution_count": 86,
     "metadata": {},
     "output_type": "execute_result"
    }
   ],
   "source": [
    "taxa_bar_plot = qiime2.plugins.taxa.visualizers.barplot(qc_table, taxclass, metad)\n",
    "taxa_bar_plot.visualization"
   ]
  },
  {
   "cell_type": "markdown",
   "metadata": {},
   "source": [
    "Do a pure Python plot"
   ]
  },
  {
   "cell_type": "markdown",
   "metadata": {},
   "source": [
    "---"
   ]
  }
 ],
 "metadata": {
  "kernelspec": {
   "display_name": "Python 3 (ipykernel)",
   "language": "python",
   "name": "python3"
  },
  "language_info": {
   "codemirror_mode": {
    "name": "ipython",
    "version": 3
   },
   "file_extension": ".py",
   "mimetype": "text/x-python",
   "name": "python",
   "nbconvert_exporter": "python",
   "pygments_lexer": "ipython3",
   "version": "3.8.15"
  }
 },
 "nbformat": 4,
 "nbformat_minor": 4
}
